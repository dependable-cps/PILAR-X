{
  "cells": [
    {
      "cell_type": "markdown",
      "metadata": {
        "id": "QxGwWdft-99A"
      },
      "source": [
        "# plot_likert guide\n",
        "\n",
        "Welcome! This notebook aims to introduce you to the usage and options of plot_likert.  \n",
        "Have questions or suggestions for improvement? Feel free to open an issue!"
      ]
    },
    {
      "cell_type": "markdown",
      "metadata": {
        "id": "NVM4FGj8-99E"
      },
      "source": [
        "### Prerequisites"
      ]
    },
    {
      "cell_type": "markdown",
      "metadata": {
        "id": "9VLGd0nT-99E"
      },
      "source": [
        "First, obviously, you'll need plot_likert itself. See homepage for installation instructions."
      ]
    },
    {
      "cell_type": "code",
      "execution_count": null,
      "metadata": {
        "id": "LtjZfZxR-99F",
        "outputId": "18763b76-97f4-4d38-9abd-a7501fd0e37d",
        "colab": {
          "base_uri": "https://localhost:8080/",
          "height": 314
        }
      },
      "outputs": [
        {
          "output_type": "error",
          "ename": "ModuleNotFoundError",
          "evalue": "No module named 'plot_likert'",
          "traceback": [
            "\u001b[0;31m---------------------------------------------------------------------------\u001b[0m",
            "\u001b[0;31mModuleNotFoundError\u001b[0m                       Traceback (most recent call last)",
            "\u001b[0;32m<ipython-input-1-0fef35a86843>\u001b[0m in \u001b[0;36m<cell line: 1>\u001b[0;34m()\u001b[0m\n\u001b[0;32m----> 1\u001b[0;31m \u001b[0;32mimport\u001b[0m \u001b[0mplot_likert\u001b[0m\u001b[0;34m\u001b[0m\u001b[0;34m\u001b[0m\u001b[0m\n\u001b[0m",
            "\u001b[0;31mModuleNotFoundError\u001b[0m: No module named 'plot_likert'",
            "",
            "\u001b[0;31m---------------------------------------------------------------------------\u001b[0;32m\nNOTE: If your import is failing due to a missing package, you can\nmanually install dependencies using either !pip or !apt.\n\nTo view examples of installing some common dependencies, click the\n\"Open Examples\" button below.\n\u001b[0;31m---------------------------------------------------------------------------\u001b[0m\n"
          ],
          "errorDetails": {
            "actions": [
              {
                "action": "open_url",
                "actionText": "Open Examples",
                "url": "/notebooks/snippets/importing_libraries.ipynb"
              }
            ]
          }
        }
      ],
      "source": [
        "import plot_likert"
      ]
    },
    {
      "cell_type": "code",
      "source": [
        "from google.colab import drive\n",
        "drive.mount('/content/drive', force_remount=True)\n",
        "!ls -1h /content/drive/My\\Drive/ARXAI/Figure"
      ],
      "metadata": {
        "colab": {
          "base_uri": "https://localhost:8080/"
        },
        "id": "ENB4R1x5G_GR",
        "outputId": "b3f32577-c9ed-4e67-e739-18c4c11c4786"
      },
      "execution_count": null,
      "outputs": [
        {
          "output_type": "stream",
          "name": "stdout",
          "text": [
            "Mounted at /content/drive\n",
            "HALIE_survey_figure.pdf\n"
          ]
        }
      ]
    },
    {
      "cell_type": "code",
      "source": [
        "from sklearn.metrics import roc_curve\n",
        "from sklearn.metrics import precision_recall_fscore_support, f1_score, roc_auc_score\n",
        "from sklearn.metrics import precision_recall_curve, confusion_matrix, average_precision_score\n",
        "import matplotlib.pyplot as plt\n",
        "import seaborn as sns\n",
        "plt.style.use('seaborn-whitegrid')\n",
        "from sklearn.metrics import recall_score, classification_report, auc, roc_curve, make_scorer\n",
        "f = plt.figure()\n",
        "f.set_figwidth(9)\n",
        "f.set_figheight(4)\n",
        "sickness_NM= [87.5, 90, 75, 80, 88.5, 82.5, 90, 85, 72.5, 87.5, 84.5, 67.5, 75, 77.5, 87.5, 90]\n",
        "sickness_DFOV= [58.8, 81, 55.8, 67.5, 72.5, 75, 62.5, 61.3, 60.2, 62.3, 63.5, 49.5, 55.8, 61.3, 71.5, 62.5]\n",
        "participant = [1,2,3,4,5,6,7,8,9,10,11,12,13,14,15,16]\n",
        "plt.plot(participant, sickness_NM, linewidth=1, linestyle='-', label='LLMEX',marker='s',markersize=6)\n",
        "plt.plot(participant, sickness_DFOV, linewidth=1, linestyle='-', label='Conventional',marker=8,markersize=6)\n",
        "legend_properties = {'weight':'bold','size':12}\n",
        "plt.legend(loc='lower left',prop=legend_properties)\n",
        "plt.xlabel('Participant',weight = 'bold',fontsize=12)\n",
        "plt.ylabel('Total SUS Score',weight = 'bold',fontsize=12)\n",
        "plt.yticks(weight = 'bold',fontsize=12)\n",
        "plt.xticks(weight = 'bold',fontsize=12)\n",
        "plt.grid(False)\n",
        "#plt.savefig('/content/drive/My Drive/Mazedata/Without_teleportation/SUS_score_comp_new_updated.pdf',dpi=1000,format='pdf')\n",
        "plt.show()"
      ],
      "metadata": {
        "colab": {
          "base_uri": "https://localhost:8080/",
          "height": 440
        },
        "id": "Zf6Wb_hRRywH",
        "outputId": "9cfcf216-07bc-42df-80b2-5484e10c76a8"
      },
      "execution_count": 3,
      "outputs": [
        {
          "output_type": "stream",
          "name": "stderr",
          "text": [
            "<ipython-input-3-fdaefa1fd7dd>:6: MatplotlibDeprecationWarning: The seaborn styles shipped by Matplotlib are deprecated since 3.6, as they no longer correspond to the styles shipped by seaborn. However, they will remain available as 'seaborn-v0_8-<style>'. Alternatively, directly use the seaborn API instead.\n",
            "  plt.style.use('seaborn-whitegrid')\n"
          ]
        },
        {
          "output_type": "display_data",
          "data": {
            "text/plain": [
              "<Figure size 900x400 with 1 Axes>"
            ],
            "image/png": "[encoded data removed]"
          },
          "metadata": {}
        }
      ]
    },
    {
      "cell_type": "code",
      "source": [],
      "metadata": {
        "id": "aN2F4FwaRy2a"
      },
      "execution_count": null,
      "outputs": []
    },
    {
      "cell_type": "code",
      "source": [],
      "metadata": {
        "id": "eG2n843rRy5p"
      },
      "execution_count": null,
      "outputs": []
    },
    {
      "cell_type": "code",
      "source": [
        "import pandas as pd\n",
        "import matplotlib.pyplot as plt\n",
        "import seaborn as sns\n",
        "import seaborn as sns\n",
        "nested_dicts = {\n",
        "    \"statement 1\": {\n",
        "        \"Agree\": [4, 7],\n",
        "        \"Somewhat Agree\": [3 ,4],\n",
        "        \"Neutral\": [1, 0],\n",
        "        \"Somewhat Disagree\": [3, 2],\n",
        "        \"Disagree\": [5, 3]\n",
        "        },\n",
        "    \"statement 2\": {\"Agree\": [6, 9],\n",
        "        \"Somewhat Agree\": [4, 3],\n",
        "        \"Neutral\": [2, 0],\n",
        "        \"Somewhat Disagree\": [0, 3],\n",
        "        \"Disagree\": [4, 1]\n",
        "        },\n",
        "    \"statement 3\": {\"Agree\": [3, 7],\n",
        "        \"Somewhat Agree\": [6, 4],\n",
        "        \"Neutral\": [3, 1],\n",
        "        \"Somewhat Disagree\": [1, 2],\n",
        "        \"Disagree\": [3, 2]\n",
        "        },\n",
        "    \"statement 4\": {\n",
        "        \"Agree\": [7, 10],\n",
        "        \"Somewhat Agree\": [3 ,2],\n",
        "        \"Neutral\": [3, 0],\n",
        "        \"Somewhat Disagree\": [1, 1],\n",
        "        \"Disagree\": [2, 3]\n",
        "        },\n",
        "    \"statement 5\": { \"Agree\": [5, 9],\n",
        "        \"Somewhat Agree\": [3, 5],\n",
        "        \"Neutral\": [4, 0],\n",
        "        \"Somewhat Disagree\": [3, 0],\n",
        "        \"Disagree\": [1, 2]\n",
        "        }\n",
        "\n",
        "    }\n",
        "df = pd.concat({key:pd.DataFrame(nested_dicts[key]) for key in nested_dicts.keys()}).stack()#.unstack(0).stack()\n",
        "plotdata = df.unstack()\n",
        "#plotdata = pd.DataFrame(plotdata).unstack()\n",
        "my_colors=[(.9,.4,.6),(.1,.3,.8),(.5,.2,.7),(.1,.1,.1),(.3,.1,.2)]\n",
        "f = plt.figure()\n",
        "f.set_figwidth(17)\n",
        "f.set_figheight(4)\n",
        "iterables = [[\"F\", \"H\", \"J\", \"R\", \"E\"], [\"C\", \"L\"]]\n",
        "plotdata= plotdata.set_index(pd.MultiIndex.from_product(iterables, names=[\"first\", \"second\"]))\n",
        "plotdata.plot(kind=\"bar\",figsize=(9, 5),rot=45,colormap = 'viridis',grid= False,stacked=True,yticks= range(2))\n",
        "#plt.title(\"FIFA ratings\")\n",
        "#legend_properties = {'weight':'bold','size':11}\n",
        "plt.xlabel(\"\")\n",
        "plt.ylabel(\"Participants\",fontsize=16)\n",
        "plt.xticks(fontsize=16)\n",
        "plt.yticks(range(17), fontsize=16)\n",
        "#plt.legend(prop=legend_properties, loc='upper right', shadow = True, facecolor = 'green')\n",
        "plt.legend(bbox_to_anchor=(1, 1), prop = {'size':16 }, loc='upper left')\n",
        "plt.tight_layout()\n",
        "#legend1 = plt.legend(prop = { 'weight':'bold','size':12 }, loc='upper right', facecolor='lightyellow', labelcolor='red')\n",
        "#plt.gca().add_artist(legend1)\n",
        "plt.savefig('/content/drive/My Drive//ARXAI/Figure/HALIE_survey_figure.pdf',format='pdf')"
      ],
      "metadata": {
        "id": "ZZgCfojF_rZk",
        "outputId": "ea1ccf9e-93c4-4e15-d889-f86059152800",
        "colab": {
          "base_uri": "https://localhost:8080/",
          "height": 524
        }
      },
      "execution_count": null,
      "outputs": [
        {
          "output_type": "display_data",
          "data": {
            "text/plain": [
              "<Figure size 1700x400 with 0 Axes>"
            ]
          },
          "metadata": {}
        },
        {
          "output_type": "display_data",
          "data": {
            "text/plain": [
              "<Figure size 900x500 with 1 Axes>"
            ],
            "image/png": "[encoded data removed]"
          },
          "metadata": {}
        }
      ]
    },
    {
      "cell_type": "code",
      "source": [],
      "metadata": {
        "id": "m57hWlNp_rcL"
      },
      "execution_count": null,
      "outputs": []
    },
    {
      "cell_type": "code",
      "source": [],
      "metadata": {
        "id": "CzzfDqle_rfO"
      },
      "execution_count": null,
      "outputs": []
    },
    {
      "cell_type": "code",
      "source": [],
      "metadata": {
        "id": "pcvzpHm6_rhz"
      },
      "execution_count": null,
      "outputs": []
    },
    {
      "cell_type": "code",
      "source": [
        "pip install plot-likert"
      ],
      "metadata": {
        "id": "CdZXtvjB_Ghb",
        "outputId": "268aade3-bc7e-46e4-9759-77b89c9d23b8",
        "colab": {
          "base_uri": "https://localhost:8080/"
        }
      },
      "execution_count": null,
      "outputs": [
        {
          "output_type": "stream",
          "name": "stdout",
          "text": [
            "Collecting plot-likert\n",
            "  Downloading plot_likert-0.5.0-py3-none-any.whl.metadata (2.9 kB)\n",
            "Requirement already satisfied: matplotlib>=3.4.0 in /usr/local/lib/python3.10/dist-packages (from plot-likert) (3.7.1)\n",
            "Requirement already satisfied: numpy in /usr/local/lib/python3.10/dist-packages (from plot-likert) (1.26.4)\n",
            "Requirement already satisfied: pandas in /usr/local/lib/python3.10/dist-packages (from plot-likert) (2.2.2)\n",
            "Requirement already satisfied: contourpy>=1.0.1 in /usr/local/lib/python3.10/dist-packages (from matplotlib>=3.4.0->plot-likert) (1.3.0)\n",
            "Requirement already satisfied: cycler>=0.10 in /usr/local/lib/python3.10/dist-packages (from matplotlib>=3.4.0->plot-likert) (0.12.1)\n",
            "Requirement already satisfied: fonttools>=4.22.0 in /usr/local/lib/python3.10/dist-packages (from matplotlib>=3.4.0->plot-likert) (4.54.1)\n",
            "Requirement already satisfied: kiwisolver>=1.0.1 in /usr/local/lib/python3.10/dist-packages (from matplotlib>=3.4.0->plot-likert) (1.4.7)\n",
            "Requirement already satisfied: packaging>=20.0 in /usr/local/lib/python3.10/dist-packages (from matplotlib>=3.4.0->plot-likert) (24.1)\n",
            "Requirement already satisfied: pillow>=6.2.0 in /usr/local/lib/python3.10/dist-packages (from matplotlib>=3.4.0->plot-likert) (10.4.0)\n",
            "Requirement already satisfied: pyparsing>=2.3.1 in /usr/local/lib/python3.10/dist-packages (from matplotlib>=3.4.0->plot-likert) (3.1.4)\n",
            "Requirement already satisfied: python-dateutil>=2.7 in /usr/local/lib/python3.10/dist-packages (from matplotlib>=3.4.0->plot-likert) (2.8.2)\n",
            "Requirement already satisfied: pytz>=2020.1 in /usr/local/lib/python3.10/dist-packages (from pandas->plot-likert) (2024.2)\n",
            "Requirement already satisfied: tzdata>=2022.7 in /usr/local/lib/python3.10/dist-packages (from pandas->plot-likert) (2024.2)\n",
            "Requirement already satisfied: six>=1.5 in /usr/local/lib/python3.10/dist-packages (from python-dateutil>=2.7->matplotlib>=3.4.0->plot-likert) (1.16.0)\n",
            "Downloading plot_likert-0.5.0-py3-none-any.whl (11 kB)\n",
            "Installing collected packages: plot-likert\n",
            "Successfully installed plot-likert-0.5.0\n"
          ]
        }
      ]
    },
    {
      "cell_type": "code",
      "source": [
        "import plot_likert"
      ],
      "metadata": {
        "id": "6_3YtHtz_JcD"
      },
      "execution_count": null,
      "outputs": []
    },
    {
      "cell_type": "markdown",
      "metadata": {
        "id": "z4LdW_x1-99H"
      },
      "source": [
        "plot_likert operates on [Pandas](https://pandas.pydata.org/) [DataFrames](https://pandas.pydata.org/pandas-docs/stable/reference/api/pandas.DataFrame.html), so you'll need Pandas as well."
      ]
    },
    {
      "cell_type": "code",
      "execution_count": null,
      "metadata": {
        "id": "xfpmOevY-99H"
      },
      "outputs": [],
      "source": [
        "import pandas as pd"
      ]
    },
    {
      "cell_type": "markdown",
      "metadata": {
        "id": "z4Yq-n64-99I"
      },
      "source": [
        "Pandas uses [NumPy](https://numpy.org/) under the hood. You won't need it directly, but this notebook will use it for a couple of things, like random number generation."
      ]
    },
    {
      "cell_type": "code",
      "execution_count": null,
      "metadata": {
        "id": "lLCSujWi-99J"
      },
      "outputs": [],
      "source": [
        "import numpy as np"
      ]
    },
    {
      "cell_type": "code",
      "source": [],
      "metadata": {
        "id": "8fpS6RaO_FgE"
      },
      "execution_count": null,
      "outputs": []
    },
    {
      "cell_type": "markdown",
      "metadata": {
        "id": "nrFvmrXI-99J"
      },
      "source": [
        "# Quick start\n",
        "\n",
        "If you have the data in the right format, you can make a plot with just one line of code!  \n",
        "\n",
        "So, let's get some data:"
      ]
    },
    {
      "cell_type": "code",
      "execution_count": null,
      "metadata": {
        "id": "8ip2Rq9Q-99J"
      },
      "outputs": [],
      "source": [
        "rng = np.random.default_rng(seed=42)\n",
        "data = pd.DataFrame(rng.choice(plot_likert.scales.agree, (10,2)), columns=['Q1','Q2'])"
      ]
    },
    {
      "cell_type": "code",
      "source": [
        "data"
      ],
      "metadata": {
        "id": "XT3m-8n_BqDu",
        "outputId": "0d365e80-3b30-41f4-c056-6c25cdbc6f4b",
        "colab": {
          "base_uri": "https://localhost:8080/",
          "height": 363
        }
      },
      "execution_count": null,
      "outputs": [
        {
          "output_type": "execute_result",
          "data": {
            "text/plain": [
              "                           Q1                          Q2\n",
              "0           Strongly disagree                       Agree\n",
              "1                       Agree  Neither agree nor disagree\n",
              "2  Neither agree nor disagree              Strongly agree\n",
              "3           Strongly disagree                       Agree\n",
              "4                    Disagree           Strongly disagree\n",
              "5  Neither agree nor disagree              Strongly agree\n",
              "6                       Agree                       Agree\n",
              "7                       Agree                       Agree\n",
              "8  Neither agree nor disagree           Strongly disagree\n",
              "9              Strongly agree  Neither agree nor disagree"
            ],
            "text/html": [
              "\n",
              "  <div id=\"df-cff71813-f60e-46d9-847d-094ab8cdb335\" class=\"colab-df-container\">\n",
              "    <div>\n",
              "<style scoped>\n",
              "    .dataframe tbody tr th:only-of-type {\n",
              "        vertical-align: middle;\n",
              "    }\n",
              "\n",
              "    .dataframe tbody tr th {\n",
              "        vertical-align: top;\n",
              "    }\n",
              "\n",
              "    .dataframe thead th {\n",
              "        text-align: right;\n",
              "    }\n",
              "</style>\n",
              "<table border=\"1\" class=\"dataframe\">\n",
              "  <thead>\n",
              "    <tr style=\"text-align: right;\">\n",
              "      <th></th>\n",
              "      <th>Q1</th>\n",
              "      <th>Q2</th>\n",
              "    </tr>\n",
              "  </thead>\n",
              "  <tbody>\n",
              "    <tr>\n",
              "      <th>0</th>\n",
              "      <td>Strongly disagree</td>\n",
              "      <td>Agree</td>\n",
              "    </tr>\n",
              "    <tr>\n",
              "      <th>1</th>\n",
              "      <td>Agree</td>\n",
              "      <td>Neither agree nor disagree</td>\n",
              "    </tr>\n",
              "    <tr>\n",
              "      <th>2</th>\n",
              "      <td>Neither agree nor disagree</td>\n",
              "      <td>Strongly agree</td>\n",
              "    </tr>\n",
              "    <tr>\n",
              "      <th>3</th>\n",
              "      <td>Strongly disagree</td>\n",
              "      <td>Agree</td>\n",
              "    </tr>\n",
              "    <tr>\n",
              "      <th>4</th>\n",
              "      <td>Disagree</td>\n",
              "      <td>Strongly disagree</td>\n",
              "    </tr>\n",
              "    <tr>\n",
              "      <th>5</th>\n",
              "      <td>Neither agree nor disagree</td>\n",
              "      <td>Strongly agree</td>\n",
              "    </tr>\n",
              "    <tr>\n",
              "      <th>6</th>\n",
              "      <td>Agree</td>\n",
              "      <td>Agree</td>\n",
              "    </tr>\n",
              "    <tr>\n",
              "      <th>7</th>\n",
              "      <td>Agree</td>\n",
              "      <td>Agree</td>\n",
              "    </tr>\n",
              "    <tr>\n",
              "      <th>8</th>\n",
              "      <td>Neither agree nor disagree</td>\n",
              "      <td>Strongly disagree</td>\n",
              "    </tr>\n",
              "    <tr>\n",
              "      <th>9</th>\n",
              "      <td>Strongly agree</td>\n",
              "      <td>Neither agree nor disagree</td>\n",
              "    </tr>\n",
              "  </tbody>\n",
              "</table>\n",
              "</div>\n",
              "    <div class=\"colab-df-buttons\">\n",
              "\n",
              "  <div class=\"colab-df-container\">\n",
              "    <button class=\"colab-df-convert\" onclick=\"convertToInteractive('df-cff71813-f60e-46d9-847d-094ab8cdb335')\"\n",
              "            title=\"Convert this dataframe to an interactive table.\"\n",
              "            style=\"display:none;\">\n",
              "\n",
              "  <svg xmlns=\"http://www.w3.org/2000/svg\" height=\"24px\" viewBox=\"0 -960 960 960\">\n",
              "    <path d=\"M120-120v-720h720v720H120Zm60-500h600v-160H180v160Zm220 220h160v-160H400v160Zm0 220h160v-160H400v160ZM180-400h160v-160H180v160Zm440 0h160v-160H620v160ZM180-180h160v-160H180v160Zm440 0h160v-160H620v160Z\"/>\n",
              "  </svg>\n",
              "    </button>\n",
              "\n",
              "  <style>\n",
              "    .colab-df-container {\n",
              "      display:flex;\n",
              "      gap: 12px;\n",
              "    }\n",
              "\n",
              "    .colab-df-convert {\n",
              "      background-color: #E8F0FE;\n",
              "      border: none;\n",
              "      border-radius: 50%;\n",
              "      cursor: pointer;\n",
              "      display: none;\n",
              "      fill: #1967D2;\n",
              "      height: 32px;\n",
              "      padding: 0 0 0 0;\n",
              "      width: 32px;\n",
              "    }\n",
              "\n",
              "    .colab-df-convert:hover {\n",
              "      background-color: #E2EBFA;\n",
              "      box-shadow: 0px 1px 2px rgba(60, 64, 67, 0.3), 0px 1px 3px 1px rgba(60, 64, 67, 0.15);\n",
              "      fill: #174EA6;\n",
              "    }\n",
              "\n",
              "    .colab-df-buttons div {\n",
              "      margin-bottom: 4px;\n",
              "    }\n",
              "\n",
              "    [theme=dark] .colab-df-convert {\n",
              "      background-color: #3B4455;\n",
              "      fill: #D2E3FC;\n",
              "    }\n",
              "\n",
              "    [theme=dark] .colab-df-convert:hover {\n",
              "      background-color: #434B5C;\n",
              "      box-shadow: 0px 1px 3px 1px rgba(0, 0, 0, 0.15);\n",
              "      filter: drop-shadow(0px 1px 2px rgba(0, 0, 0, 0.3));\n",
              "      fill: #FFFFFF;\n",
              "    }\n",
              "  </style>\n",
              "\n",
              "    <script>\n",
              "      const buttonEl =\n",
              "        document.querySelector('#df-cff71813-f60e-46d9-847d-094ab8cdb335 button.colab-df-convert');\n",
              "      buttonEl.style.display =\n",
              "        google.colab.kernel.accessAllowed ? 'block' : 'none';\n",
              "\n",
              "      async function convertToInteractive(key) {\n",
              "        const element = document.querySelector('#df-cff71813-f60e-46d9-847d-094ab8cdb335');\n",
              "        const dataTable =\n",
              "          await google.colab.kernel.invokeFunction('convertToInteractive',\n",
              "                                                    [key], {});\n",
              "        if (!dataTable) return;\n",
              "\n",
              "        const docLinkHtml = 'Like what you see? Visit the ' +\n",
              "          '<a target=\"_blank\" href=https://colab.research.google.com/notebooks/data_table.ipynb>data table notebook</a>'\n",
              "          + ' to learn more about interactive tables.';\n",
              "        element.innerHTML = '';\n",
              "        dataTable['output_type'] = 'display_data';\n",
              "        await google.colab.output.renderOutput(dataTable, element);\n",
              "        const docLink = document.createElement('div');\n",
              "        docLink.innerHTML = docLinkHtml;\n",
              "        element.appendChild(docLink);\n",
              "      }\n",
              "    </script>\n",
              "  </div>\n",
              "\n",
              "\n",
              "<div id=\"df-e14105fe-1798-49ba-9ec0-ecb84454d0bc\">\n",
              "  <button class=\"colab-df-quickchart\" onclick=\"quickchart('df-e14105fe-1798-49ba-9ec0-ecb84454d0bc')\"\n",
              "            title=\"Suggest charts\"\n",
              "            style=\"display:none;\">\n",
              "\n",
              "<svg xmlns=\"http://www.w3.org/2000/svg\" height=\"24px\"viewBox=\"0 0 24 24\"\n",
              "     width=\"24px\">\n",
              "    <g>\n",
              "        <path d=\"M19 3H5c-1.1 0-2 .9-2 2v14c0 1.1.9 2 2 2h14c1.1 0 2-.9 2-2V5c0-1.1-.9-2-2-2zM9 17H7v-7h2v7zm4 0h-2V7h2v10zm4 0h-2v-4h2v4z\"/>\n",
              "    </g>\n",
              "</svg>\n",
              "  </button>\n",
              "\n",
              "<style>\n",
              "  .colab-df-quickchart {\n",
              "      --bg-color: #E8F0FE;\n",
              "      --fill-color: #1967D2;\n",
              "      --hover-bg-color: #E2EBFA;\n",
              "      --hover-fill-color: #174EA6;\n",
              "      --disabled-fill-color: #AAA;\n",
              "      --disabled-bg-color: #DDD;\n",
              "  }\n",
              "\n",
              "  [theme=dark] .colab-df-quickchart {\n",
              "      --bg-color: #3B4455;\n",
              "      --fill-color: #D2E3FC;\n",
              "      --hover-bg-color: #434B5C;\n",
              "      --hover-fill-color: #FFFFFF;\n",
              "      --disabled-bg-color: #3B4455;\n",
              "      --disabled-fill-color: #666;\n",
              "  }\n",
              "\n",
              "  .colab-df-quickchart {\n",
              "    background-color: var(--bg-color);\n",
              "    border: none;\n",
              "    border-radius: 50%;\n",
              "    cursor: pointer;\n",
              "    display: none;\n",
              "    fill: var(--fill-color);\n",
              "    height: 32px;\n",
              "    padding: 0;\n",
              "    width: 32px;\n",
              "  }\n",
              "\n",
              "  .colab-df-quickchart:hover {\n",
              "    background-color: var(--hover-bg-color);\n",
              "    box-shadow: 0 1px 2px rgba(60, 64, 67, 0.3), 0 1px 3px 1px rgba(60, 64, 67, 0.15);\n",
              "    fill: var(--button-hover-fill-color);\n",
              "  }\n",
              "\n",
              "  .colab-df-quickchart-complete:disabled,\n",
              "  .colab-df-quickchart-complete:disabled:hover {\n",
              "    background-color: var(--disabled-bg-color);\n",
              "    fill: var(--disabled-fill-color);\n",
              "    box-shadow: none;\n",
              "  }\n",
              "\n",
              "  .colab-df-spinner {\n",
              "    border: 2px solid var(--fill-color);\n",
              "    border-color: transparent;\n",
              "    border-bottom-color: var(--fill-color);\n",
              "    animation:\n",
              "      spin 1s steps(1) infinite;\n",
              "  }\n",
              "\n",
              "  @keyframes spin {\n",
              "    0% {\n",
              "      border-color: transparent;\n",
              "      border-bottom-color: var(--fill-color);\n",
              "      border-left-color: var(--fill-color);\n",
              "    }\n",
              "    20% {\n",
              "      border-color: transparent;\n",
              "      border-left-color: var(--fill-color);\n",
              "      border-top-color: var(--fill-color);\n",
              "    }\n",
              "    30% {\n",
              "      border-color: transparent;\n",
              "      border-left-color: var(--fill-color);\n",
              "      border-top-color: var(--fill-color);\n",
              "      border-right-color: var(--fill-color);\n",
              "    }\n",
              "    40% {\n",
              "      border-color: transparent;\n",
              "      border-right-color: var(--fill-color);\n",
              "      border-top-color: var(--fill-color);\n",
              "    }\n",
              "    60% {\n",
              "      border-color: transparent;\n",
              "      border-right-color: var(--fill-color);\n",
              "    }\n",
              "    80% {\n",
              "      border-color: transparent;\n",
              "      border-right-color: var(--fill-color);\n",
              "      border-bottom-color: var(--fill-color);\n",
              "    }\n",
              "    90% {\n",
              "      border-color: transparent;\n",
              "      border-bottom-color: var(--fill-color);\n",
              "    }\n",
              "  }\n",
              "</style>\n",
              "\n",
              "  <script>\n",
              "    async function quickchart(key) {\n",
              "      const quickchartButtonEl =\n",
              "        document.querySelector('#' + key + ' button');\n",
              "      quickchartButtonEl.disabled = true;  // To prevent multiple clicks.\n",
              "      quickchartButtonEl.classList.add('colab-df-spinner');\n",
              "      try {\n",
              "        const charts = await google.colab.kernel.invokeFunction(\n",
              "            'suggestCharts', [key], {});\n",
              "      } catch (error) {\n",
              "        console.error('Error during call to suggestCharts:', error);\n",
              "      }\n",
              "      quickchartButtonEl.classList.remove('colab-df-spinner');\n",
              "      quickchartButtonEl.classList.add('colab-df-quickchart-complete');\n",
              "    }\n",
              "    (() => {\n",
              "      let quickchartButtonEl =\n",
              "        document.querySelector('#df-e14105fe-1798-49ba-9ec0-ecb84454d0bc button');\n",
              "      quickchartButtonEl.style.display =\n",
              "        google.colab.kernel.accessAllowed ? 'block' : 'none';\n",
              "    })();\n",
              "  </script>\n",
              "</div>\n",
              "\n",
              "  <div id=\"id_397c7fa5-262a-4575-b564-4a5b33e1213d\">\n",
              "    <style>\n",
              "      .colab-df-generate {\n",
              "        background-color: #E8F0FE;\n",
              "        border: none;\n",
              "        border-radius: 50%;\n",
              "        cursor: pointer;\n",
              "        display: none;\n",
              "        fill: #1967D2;\n",
              "        height: 32px;\n",
              "        padding: 0 0 0 0;\n",
              "        width: 32px;\n",
              "      }\n",
              "\n",
              "      .colab-df-generate:hover {\n",
              "        background-color: #E2EBFA;\n",
              "        box-shadow: 0px 1px 2px rgba(60, 64, 67, 0.3), 0px 1px 3px 1px rgba(60, 64, 67, 0.15);\n",
              "        fill: #174EA6;\n",
              "      }\n",
              "\n",
              "      [theme=dark] .colab-df-generate {\n",
              "        background-color: #3B4455;\n",
              "        fill: #D2E3FC;\n",
              "      }\n",
              "\n",
              "      [theme=dark] .colab-df-generate:hover {\n",
              "        background-color: #434B5C;\n",
              "        box-shadow: 0px 1px 3px 1px rgba(0, 0, 0, 0.15);\n",
              "        filter: drop-shadow(0px 1px 2px rgba(0, 0, 0, 0.3));\n",
              "        fill: #FFFFFF;\n",
              "      }\n",
              "    </style>\n",
              "    <button class=\"colab-df-generate\" onclick=\"generateWithVariable('data')\"\n",
              "            title=\"Generate code using this dataframe.\"\n",
              "            style=\"display:none;\">\n",
              "\n",
              "  <svg xmlns=\"http://www.w3.org/2000/svg\" height=\"24px\"viewBox=\"0 0 24 24\"\n",
              "       width=\"24px\">\n",
              "    <path d=\"M7,19H8.4L18.45,9,17,7.55,7,17.6ZM5,21V16.75L18.45,3.32a2,2,0,0,1,2.83,0l1.4,1.43a1.91,1.91,0,0,1,.58,1.4,1.91,1.91,0,0,1-.58,1.4L9.25,21ZM18.45,9,17,7.55Zm-12,3A5.31,5.31,0,0,0,4.9,8.1,5.31,5.31,0,0,0,1,6.5,5.31,5.31,0,0,0,4.9,4.9,5.31,5.31,0,0,0,6.5,1,5.31,5.31,0,0,0,8.1,4.9,5.31,5.31,0,0,0,12,6.5,5.46,5.46,0,0,0,6.5,12Z\"/>\n",
              "  </svg>\n",
              "    </button>\n",
              "    <script>\n",
              "      (() => {\n",
              "      const buttonEl =\n",
              "        document.querySelector('#id_397c7fa5-262a-4575-b564-4a5b33e1213d button.colab-df-generate');\n",
              "      buttonEl.style.display =\n",
              "        google.colab.kernel.accessAllowed ? 'block' : 'none';\n",
              "\n",
              "      buttonEl.onclick = () => {\n",
              "        google.colab.notebook.generateWithVariable('data');\n",
              "      }\n",
              "      })();\n",
              "    </script>\n",
              "  </div>\n",
              "\n",
              "    </div>\n",
              "  </div>\n"
            ],
            "application/vnd.google.colaboratory.intrinsic+json": {
              "type": "dataframe",
              "variable_name": "data",
              "summary": "{\n  \"name\": \"data\",\n  \"rows\": 10,\n  \"fields\": [\n    {\n      \"column\": \"Q1\",\n      \"properties\": {\n        \"dtype\": \"string\",\n        \"num_unique_values\": 5,\n        \"samples\": [\n          \"Agree\",\n          \"Strongly agree\",\n          \"Neither agree nor disagree\"\n        ],\n        \"semantic_type\": \"\",\n        \"description\": \"\"\n      }\n    },\n    {\n      \"column\": \"Q2\",\n      \"properties\": {\n        \"dtype\": \"category\",\n        \"num_unique_values\": 4,\n        \"samples\": [\n          \"Neither agree nor disagree\",\n          \"Strongly disagree\",\n          \"Agree\"\n        ],\n        \"semantic_type\": \"\",\n        \"description\": \"\"\n      }\n    }\n  ]\n}"
            }
          },
          "metadata": {},
          "execution_count": 11
        }
      ]
    },
    {
      "cell_type": "markdown",
      "metadata": {
        "id": "PerrM9yA-99K"
      },
      "source": [
        "and now, the magic happens:"
      ]
    },
    {
      "cell_type": "code",
      "execution_count": null,
      "metadata": {
        "id": "LW5Pm2BP-99K",
        "outputId": "ad6b7a57-5327-4f5a-dafd-5b02cae8288c",
        "colab": {
          "base_uri": "https://localhost:8080/",
          "height": 484
        }
      },
      "outputs": [
        {
          "output_type": "stream",
          "name": "stderr",
          "text": [
            "/usr/local/lib/python3.10/dist-packages/plot_likert/plot_likert.py:257: FutureWarning: DataFrame.applymap has been deprecated. Use DataFrame.map instead.\n",
            "  df.applymap(validate)\n"
          ]
        },
        {
          "output_type": "display_data",
          "data": {
            "text/plain": [
              "<Figure size 640x480 with 1 Axes>"
            ],
            "image/png": "[encoded data removed]"
          },
          "metadata": {}
        }
      ],
      "source": [
        "plot_likert.plot_likert(data, plot_likert.scales.agree);"
      ]
    },
    {
      "cell_type": "code",
      "source": [
        "plot_likert.scales.agree"
      ],
      "metadata": {
        "id": "CYn1ONCnB7fq",
        "outputId": "d7e07f34-2063-4cf5-9d48-a3ed3e7daea2",
        "colab": {
          "base_uri": "https://localhost:8080/"
        }
      },
      "execution_count": null,
      "outputs": [
        {
          "output_type": "execute_result",
          "data": {
            "text/plain": [
              "['Strongly disagree',\n",
              " 'Disagree',\n",
              " 'Neither agree nor disagree',\n",
              " 'Agree',\n",
              " 'Strongly agree']"
            ]
          },
          "metadata": {},
          "execution_count": 12
        }
      ]
    },
    {
      "cell_type": "markdown",
      "metadata": {
        "id": "WAS-9nwA-99M"
      },
      "source": [
        "# Inputs\n",
        "\n",
        "Now you know how easy it can be to start using plot_likert. But we said that the data has to be in the right format. What does that mean exactly? Let's take a look at what we passed in to the function:"
      ]
    },
    {
      "cell_type": "code",
      "execution_count": null,
      "metadata": {
        "id": "LKeIosfR-99M",
        "outputId": "71462dec-5475-4815-d1bf-aa858493e059"
      },
      "outputs": [
        {
          "data": {
            "text/html": [
              "<div>\n",
              "<style scoped>\n",
              "    .dataframe tbody tr th:only-of-type {\n",
              "        vertical-align: middle;\n",
              "    }\n",
              "\n",
              "    .dataframe tbody tr th {\n",
              "        vertical-align: top;\n",
              "    }\n",
              "\n",
              "    .dataframe thead th {\n",
              "        text-align: right;\n",
              "    }\n",
              "</style>\n",
              "<table border=\"1\" class=\"dataframe\">\n",
              "  <thead>\n",
              "    <tr style=\"text-align: right;\">\n",
              "      <th></th>\n",
              "      <th>Q1</th>\n",
              "      <th>Q2</th>\n",
              "    </tr>\n",
              "  </thead>\n",
              "  <tbody>\n",
              "    <tr>\n",
              "      <th>0</th>\n",
              "      <td>Strongly disagree</td>\n",
              "      <td>Agree</td>\n",
              "    </tr>\n",
              "    <tr>\n",
              "      <th>1</th>\n",
              "      <td>Agree</td>\n",
              "      <td>Neither agree nor disagree</td>\n",
              "    </tr>\n",
              "    <tr>\n",
              "      <th>2</th>\n",
              "      <td>Neither agree nor disagree</td>\n",
              "      <td>Strongly agree</td>\n",
              "    </tr>\n",
              "    <tr>\n",
              "      <th>3</th>\n",
              "      <td>Strongly disagree</td>\n",
              "      <td>Agree</td>\n",
              "    </tr>\n",
              "    <tr>\n",
              "      <th>4</th>\n",
              "      <td>Disagree</td>\n",
              "      <td>Strongly disagree</td>\n",
              "    </tr>\n",
              "    <tr>\n",
              "      <th>5</th>\n",
              "      <td>Neither agree nor disagree</td>\n",
              "      <td>Strongly agree</td>\n",
              "    </tr>\n",
              "    <tr>\n",
              "      <th>6</th>\n",
              "      <td>Agree</td>\n",
              "      <td>Agree</td>\n",
              "    </tr>\n",
              "    <tr>\n",
              "      <th>7</th>\n",
              "      <td>Agree</td>\n",
              "      <td>Agree</td>\n",
              "    </tr>\n",
              "    <tr>\n",
              "      <th>8</th>\n",
              "      <td>Neither agree nor disagree</td>\n",
              "      <td>Strongly disagree</td>\n",
              "    </tr>\n",
              "    <tr>\n",
              "      <th>9</th>\n",
              "      <td>Strongly agree</td>\n",
              "      <td>Neither agree nor disagree</td>\n",
              "    </tr>\n",
              "  </tbody>\n",
              "</table>\n",
              "</div>"
            ],
            "text/plain": [
              "                           Q1                          Q2\n",
              "0           Strongly disagree                       Agree\n",
              "1                       Agree  Neither agree nor disagree\n",
              "2  Neither agree nor disagree              Strongly agree\n",
              "3           Strongly disagree                       Agree\n",
              "4                    Disagree           Strongly disagree\n",
              "5  Neither agree nor disagree              Strongly agree\n",
              "6                       Agree                       Agree\n",
              "7                       Agree                       Agree\n",
              "8  Neither agree nor disagree           Strongly disagree\n",
              "9              Strongly agree  Neither agree nor disagree"
            ]
          },
          "execution_count": null,
          "metadata": {},
          "output_type": "execute_result"
        }
      ],
      "source": [
        "data"
      ]
    },
    {
      "cell_type": "markdown",
      "metadata": {
        "id": "hUoAckar-99M"
      },
      "source": [
        "To make our assumptions explicit:\n",
        "\n",
        "1. The input has to be a [Pandas](https://pandas.pydata.org/) [DataFrame](https://pandas.pydata.org/pandas-docs/stable/reference/api/pandas.DataFrame.html)\n",
        "2. Each row represents a response from a single respondent\n",
        "3. Each cell contains their response, preferably as a string\n",
        "4. Each column represents a different question asked to each respondent"
      ]
    },
    {
      "cell_type": "markdown",
      "metadata": {
        "id": "sshnHU92-99N"
      },
      "source": [
        "## Scales\n",
        "The second input to the `plot_likert` function is the _scale_ you're using for your questions,\n",
        "i.e., your questions' answer choices.  \n",
        "Here's what it looked like for the dataset above:"
      ]
    },
    {
      "cell_type": "code",
      "execution_count": null,
      "metadata": {
        "id": "cAYGagpr-99N",
        "outputId": "2c2062f8-9b13-4931-df1b-d643a45c13bf"
      },
      "outputs": [
        {
          "data": {
            "text/plain": [
              "['Strongly disagree',\n",
              " 'Disagree',\n",
              " 'Neither agree nor disagree',\n",
              " 'Agree',\n",
              " 'Strongly agree']"
            ]
          },
          "execution_count": null,
          "metadata": {},
          "output_type": "execute_result"
        }
      ],
      "source": [
        "plot_likert.scales.agree"
      ]
    },
    {
      "cell_type": "markdown",
      "metadata": {
        "id": "Luagfv4N-99N"
      },
      "source": [
        "You need to specify the scale explicitly because plot_likert needs to know the order of the scale (for colors and sorting), and in case there are any values in the scale that aren't represented in your dataset."
      ]
    },
    {
      "cell_type": "markdown",
      "metadata": {
        "id": "pXlkrUu2-99N"
      },
      "source": [
        "The scale is an array of strings, so you can construct one yourself."
      ]
    },
    {
      "cell_type": "code",
      "execution_count": null,
      "metadata": {
        "id": "HWuExOE0-99N"
      },
      "outputs": [],
      "source": [
        "another_scale = \\\n",
        "    ['strongly disagree',\n",
        "     'disagree',\n",
        "     'neither agree nor disagree',\n",
        "     'agree',\n",
        "     'strongly agree']"
      ]
    },
    {
      "cell_type": "markdown",
      "metadata": {
        "id": "ALB5AHlW-99O"
      },
      "source": [
        "### Scale must match inputs exactly\n",
        "\n",
        "The scale you pass in must match the data exactly, otherwise a `PlotLikertError` is raised.\n",
        "For example, the scale we just constructed has the fields in lower-case, but the data has the words capitalized. Trying to plot now throws an exception."
      ]
    },
    {
      "cell_type": "code",
      "execution_count": null,
      "metadata": {
        "id": "f37EM9zC-99O",
        "outputId": "a82323e5-2e69-4758-a696-14ed1bcc2b29"
      },
      "outputs": [
        {
          "name": "stderr",
          "output_type": "stream",
          "text": [
            "Oh no, something went wrong! The message in the exception is:\n",
            "A response was found with value `Strongly disagree`, which is not one of the values in the provided scale: ['strongly disagree', 'disagree', 'neither agree nor disagree', 'agree', 'strongly agree']. If this is unexpected, you might want to double-check for extra whitespace, capitalization, spelling, or type (int versus str).\n"
          ]
        }
      ],
      "source": [
        "try:\n",
        "    plot_likert.plot_likert(data, another_scale);\n",
        "    print(\"Yay, everything worked!\")\n",
        "except plot_likert.PlotLikertError as e:\n",
        "    import sys\n",
        "    print(\"Oh no, something went wrong! The message in the exception is:\\n\" + str(e), file=sys.stderr)"
      ]
    },
    {
      "cell_type": "markdown",
      "metadata": {
        "id": "LIt-45La-99O"
      },
      "source": [
        "### Bundled scales\n",
        "\n",
        "For your convenience, plot_likert [includes some commonly used scales](https://github.com/nmalkin/plot-likert/blob/master/plot_likert/scales.py), for example:"
      ]
    },
    {
      "cell_type": "code",
      "execution_count": null,
      "metadata": {
        "id": "DWAGDCQc-99O",
        "outputId": "dc951575-9643-4481-ed84-646f893d3da7"
      },
      "outputs": [
        {
          "data": {
            "text/plain": [
              "['Completely unacceptable',\n",
              " 'Somewhat unacceptable',\n",
              " 'Neutral',\n",
              " 'Somewhat acceptable',\n",
              " 'Completely acceptable']"
            ]
          },
          "execution_count": null,
          "metadata": {},
          "output_type": "execute_result"
        }
      ],
      "source": [
        "plot_likert.scales.acceptable"
      ]
    },
    {
      "cell_type": "code",
      "execution_count": null,
      "metadata": {
        "id": "LUlE31v2-99P",
        "outputId": "3aa45464-9bc4-4e58-88a8-3dbb2b144231"
      },
      "outputs": [
        {
          "data": {
            "text/plain": [
              "['1', '2', '3', '4', '5']"
            ]
          },
          "execution_count": null,
          "metadata": {},
          "output_type": "execute_result"
        }
      ],
      "source": [
        "plot_likert.scales.raw5"
      ]
    },
    {
      "cell_type": "markdown",
      "metadata": {
        "id": "LfwLF33p-99P"
      },
      "source": [
        "If you'd like to add a scale, please open a pull request."
      ]
    },
    {
      "cell_type": "markdown",
      "metadata": {
        "id": "QNxi1sKR-99P"
      },
      "source": [
        "### Missing data\n",
        "\n",
        "If not all of your respondents answered every question, you might have empty cells.\n",
        "This works fine.\n",
        "However, you'll get [a warning](https://docs.python.org/3/library/warnings.html) if you're plotting percentages (see below)."
      ]
    },
    {
      "cell_type": "code",
      "execution_count": null,
      "metadata": {
        "id": "r4ggVBc5-99P"
      },
      "outputs": [],
      "source": [
        "missing_data = data.copy()\n",
        "missing_data.iloc[0,0] = np.NaN\n",
        "\n",
        "# This produces a warning:\n",
        "#plot_likert.plot_likert(missing_data, plot_likert.scales.agree, plot_percentage=True);"
      ]
    },
    {
      "cell_type": "markdown",
      "metadata": {
        "id": "DDqSs69t-99P"
      },
      "source": [
        "# Outputting the figure to a file\n",
        "\n",
        "A call to the `plot_likert.plot_likert` function returns a [matplotlib.Axes](https://matplotlib.org/stable/api/axes_api.html) object. This can be used to customize the figure (more on this below), but it is also needed to save the plotted figure to a file:"
      ]
    },
    {
      "cell_type": "code",
      "execution_count": null,
      "metadata": {
        "id": "YYXKnBrf-99Q"
      },
      "outputs": [],
      "source": [
        "%%capture\n",
        "# ^ Don't show the plot in this example\n",
        "\n",
        "axes = plot_likert.plot_likert(data, plot_likert.scales.agree);\n",
        "\n",
        "axes.get_figure().savefig('sample_plot.png');"
      ]
    },
    {
      "cell_type": "markdown",
      "metadata": {
        "id": "2E13ztAg-99Q"
      },
      "source": [
        "[`savefig` accepts a number of arguments](https://matplotlib.org/stable/api/figure_api.html#matplotlib.figure.Figure.savefig) that may be useful, for example `dpi` to make the figure higher-resolution, or `bbox_inches` to constrain the bounding boxes:"
      ]
    },
    {
      "cell_type": "code",
      "execution_count": null,
      "metadata": {
        "id": "riQvJEW8-99Q"
      },
      "outputs": [],
      "source": [
        "axes.get_figure().savefig('sample_plot.png', dpi=300, bbox_inches='tight')"
      ]
    },
    {
      "cell_type": "markdown",
      "metadata": {
        "id": "pQ-k2GRZ-99Q"
      },
      "source": [
        "# Plotting percentages\n",
        "\n",
        "Often, instead of plotting the raw number of responses, you'll want to plot the percentage of respondents who answered a certain way. You can do this by setting the argument `plot_percentage=True`:"
      ]
    },
    {
      "cell_type": "code",
      "execution_count": null,
      "metadata": {
        "id": "9xjJWjuc-99R",
        "outputId": "3e5c79be-fcdf-491f-a645-20966a014acd"
      },
      "outputs": [
        {
          "data": {
            "image/png": "[encoded data removed]",
            "text/plain": [
              "<Figure size 432x288 with 1 Axes>"
            ]
          },
          "metadata": {
            "needs_background": "light"
          },
          "output_type": "display_data"
        }
      ],
      "source": [
        "plot_likert.plot_likert(data, plot_likert.scales.agree,\n",
        "                        plot_percentage=True);"
      ]
    },
    {
      "cell_type": "markdown",
      "metadata": {
        "id": "rPM9MqEw-99R"
      },
      "source": [
        "# Customizing colors\n",
        "\n",
        "You can change the colors used in the plot by passing in an array of color values as the `colors` argument:"
      ]
    },
    {
      "cell_type": "code",
      "execution_count": null,
      "metadata": {
        "id": "juo-8-5Q-99R",
        "outputId": "40940fa6-104c-40dd-e0ce-75736e3612d6"
      },
      "outputs": [
        {
          "data": {
            "image/png": "[encoded data removed]",
            "text/plain": [
              "<Figure size 432x288 with 1 Axes>"
            ]
          },
          "metadata": {
            "needs_background": "light"
          },
          "output_type": "display_data"
        }
      ],
      "source": [
        "plot_likert.plot_likert(data, plot_likert.scales.agree,\n",
        "                        colors=plot_likert.colors.likert5);"
      ]
    },
    {
      "cell_type": "markdown",
      "metadata": {
        "id": "p5vYuQzs-99S"
      },
      "source": [
        "This is mandatory if you're using a scale that has more than 5 values.\n",
        "\n",
        "Some default color schemes [are provided under `plot_likert.colors`](https://github.com/nmalkin/plot-likert/blob/master/plot_likert/colors.py).\n",
        "A color scheme is just an array of [matplotlib color values](https://matplotlib.org/tutorials/colors/colors.html), so you can also construct your own:"
      ]
    },
    {
      "cell_type": "code",
      "execution_count": null,
      "metadata": {
        "id": "YhjoUS3z-99S"
      },
      "outputs": [],
      "source": [
        "my_color_scheme =[\n",
        "    plot_likert.colors.TRANSPARENT,\n",
        "    \"red\",\n",
        "    \"orange\",\n",
        "    \"green\",\n",
        "    \"blue\",\n",
        "    \"violet\",\n",
        "]"
      ]
    },
    {
      "cell_type": "markdown",
      "metadata": {
        "id": "vbRMkka9-99S"
      },
      "source": [
        "Note that the first color in the color scheme must be transparent (e.g., `\"#ffffff00\"`)."
      ]
    },
    {
      "cell_type": "markdown",
      "metadata": {
        "id": "Jye6O_T5-99S"
      },
      "source": [
        "# Labeling bar values\n",
        "\n",
        "You can add a label with each bar segment's value by setting the `bar_labels` argument to `True`.\n",
        "The default color of the text is white, but you can change it with the `bar_labels_color` argument\n",
        "(which accepts a single color or an array of them)."
      ]
    },
    {
      "cell_type": "code",
      "execution_count": null,
      "metadata": {
        "id": "ad8Zz3ZP-99T",
        "outputId": "cf80e6c4-d876-4a63-bf50-2042a040620f"
      },
      "outputs": [
        {
          "data": {
            "image/png": "[encoded data removed]",
            "text/plain": [
              "<Figure size 432x288 with 1 Axes>"
            ]
          },
          "metadata": {
            "needs_background": "light"
          },
          "output_type": "display_data"
        }
      ],
      "source": [
        "plot_likert.plot_likert(data, plot_likert.scales.agree, plot_percentage=True,\n",
        "                        bar_labels=True, bar_labels_color=\"snow\", colors=plot_likert.colors.default_with_darker_neutral);"
      ]
    },
    {
      "cell_type": "markdown",
      "metadata": {
        "id": "MWg3hzXC-99T"
      },
      "source": [
        "# Changing the figure size\n",
        "\n",
        "The default size of the plot can be pretty cramped. You can adjust the figure size using the `figsize` argument. This specifies the dimensions of the figure in inches. This argument is passed directly to [matplotlib](https://matplotlib.org), so [see its documentation](https://matplotlib.org/api/_as_gen/matplotlib.pyplot.figure.html) for any questions."
      ]
    },
    {
      "cell_type": "code",
      "execution_count": null,
      "metadata": {
        "id": "AeA0L1-T-99T",
        "outputId": "185b25eb-58fa-44ae-9792-5383c840fe71"
      },
      "outputs": [
        {
          "data": {
            "image/png": "[encoded data removed]",
            "text/plain": [
              "<Figure size 720x216 with 1 Axes>"
            ]
          },
          "metadata": {
            "needs_background": "light"
          },
          "output_type": "display_data"
        }
      ],
      "source": [
        "plot_likert.plot_likert(data, plot_likert.scales.agree,\n",
        "                        figsize=(10,3));"
      ]
    },
    {
      "cell_type": "markdown",
      "metadata": {
        "id": "Ve4mLZdL-99T"
      },
      "source": [
        "You can do more advanced customization too:"
      ]
    },
    {
      "cell_type": "markdown",
      "metadata": {
        "id": "82DnSRX--99T"
      },
      "source": [
        "# Controlling the plot\n",
        "\n",
        "The plotting function returns a [matplotlib Axes object](https://matplotlib.org/api/axes_api.html#matplotlib.axes.Axes), which you can use to customize the figure, just as you would with any other matplotlib plot.\n",
        "\n",
        "Here's a quick example:"
      ]
    },
    {
      "cell_type": "code",
      "execution_count": null,
      "metadata": {
        "id": "M6XV936_-99U",
        "outputId": "cf37ebd9-3e12-4149-bfef-19d91ca87c61"
      },
      "outputs": [
        {
          "data": {
            "image/png": "[encoded data removed]",
            "text/plain": [
              "<Figure size 576x144 with 1 Axes>"
            ]
          },
          "metadata": {
            "needs_background": "light"
          },
          "output_type": "display_data"
        }
      ],
      "source": [
        "ax = plot_likert.plot_likert(data, plot_likert.scales.agree)\n",
        "\n",
        "ax.figure.set_size_inches(8, 2)\n",
        "ax.xaxis.set_label_text('# of awesome people');\n",
        "ax.set_yticklabels(['Second question', 'First question']);"
      ]
    },
    {
      "cell_type": "markdown",
      "metadata": {
        "id": "KPYE18RS-99U"
      },
      "source": [
        "Instead of manipulating the axes after they've been returned, you can also pass them in first, to enable even more advanced customization:"
      ]
    },
    {
      "cell_type": "markdown",
      "metadata": {
        "id": "LTZ7I2WS-99U"
      },
      "source": [
        "# More advanced plots\n",
        "\n",
        "You can pass a [matplotlib Axis](https://matplotlib.org/stable/api/axes_api.html#matplotlib.axes.Axes) and other options as arguments in order to build more advanced plots. These values will be passed through to [pandas.DataFrame.plot](https://pandas.pydata.org/docs/reference/api/pandas.DataFrame.plot.html) (which in turn may pass some of them through to matplotlib); see its documentation for details."
      ]
    },
    {
      "cell_type": "code",
      "execution_count": null,
      "metadata": {
        "id": "QiA1JFW9-99U"
      },
      "outputs": [],
      "source": [
        "# We import matplotlib in order to control the whole figure.\n",
        "import matplotlib.pyplot as plt"
      ]
    },
    {
      "cell_type": "markdown",
      "metadata": {
        "id": "exFbQyXX-99U"
      },
      "source": [
        "In this example, we're plotting two Likert plots side-by-side for comparison purposes — in this case, comparing absolute values vs percentages. Notice that we're using different bar widths."
      ]
    },
    {
      "cell_type": "code",
      "execution_count": null,
      "metadata": {
        "id": "Ir9PCUEa-99V",
        "outputId": "d3f60943-5c42-4c2f-956a-8167a4ae748a"
      },
      "outputs": [
        {
          "data": {
            "image/png": "[encoded data removed]",
            "text/plain": [
              "<Figure size 1080x216 with 2 Axes>"
            ]
          },
          "metadata": {
            "needs_background": "light"
          },
          "output_type": "display_data"
        }
      ],
      "source": [
        "fig, (ax1, ax2) = plt.subplots(nrows=1, ncols=2, figsize=(15,3))\n",
        "plot_likert.plot_likert(data, plot_likert.scales.agree,\n",
        "                        plot_percentage=False,  # show absolute values\n",
        "                        ax=ax1,  # show on the left-side subplot\n",
        "                        legend=0,  # hide the legend for the subplot, we'll show a single figure legend instead\n",
        "                       );\n",
        "plot_likert.plot_likert(data, plot_likert.scales.agree,\n",
        "                        plot_percentage=True,  # show percentage values\n",
        "                        ax=ax2,  # show on the right-side subplot\n",
        "                        legend=0,  # hide the legend for the subplot, we'll show a single figure legend instead\n",
        "                        width=0.15  # make the bars slimmer\n",
        "                       );\n",
        "\n",
        "# display a single legend for the whole figure\n",
        "handles, labels = ax2.get_legend_handles_labels()\n",
        "fig.legend(handles, labels, bbox_to_anchor=(1.08, .9))\n",
        "plt.show()"
      ]
    },
    {
      "cell_type": "markdown",
      "metadata": {
        "id": "_WuB2WMd-99V"
      },
      "source": [
        "# Plotting already-aggregated data\n",
        "\n",
        "The `plot_likert` function we've been using operates on \"raw\" responses:\n",
        "a DataFrame that has a row for each response (as discussed above).\n",
        "However, it's possible your data has a different shape,\n",
        "and/or you have already aggregated the data,\n",
        "and just want to plot it.\n",
        "plot_likert provides a solution for this too!\n",
        "\n",
        "Just take your aggregated counts:"
      ]
    },
    {
      "cell_type": "code",
      "execution_count": null,
      "metadata": {
        "id": "oALhSVfV-99V",
        "outputId": "07081485-13bb-41e8-898f-47e90c6fb6c8"
      },
      "outputs": [
        {
          "data": {
            "text/html": [
              "<div>\n",
              "<style scoped>\n",
              "    .dataframe tbody tr th:only-of-type {\n",
              "        vertical-align: middle;\n",
              "    }\n",
              "\n",
              "    .dataframe tbody tr th {\n",
              "        vertical-align: top;\n",
              "    }\n",
              "\n",
              "    .dataframe thead th {\n",
              "        text-align: right;\n",
              "    }\n",
              "</style>\n",
              "<table border=\"1\" class=\"dataframe\">\n",
              "  <thead>\n",
              "    <tr style=\"text-align: right;\">\n",
              "      <th></th>\n",
              "      <th>Strongly disagree</th>\n",
              "      <th>Disagree</th>\n",
              "      <th>Neither agree nor disagree</th>\n",
              "      <th>Agree</th>\n",
              "      <th>Strongly agree</th>\n",
              "    </tr>\n",
              "  </thead>\n",
              "  <tbody>\n",
              "    <tr>\n",
              "      <th>Q1</th>\n",
              "      <td>2.0</td>\n",
              "      <td>1.0</td>\n",
              "      <td>3.0</td>\n",
              "      <td>3.0</td>\n",
              "      <td>1.0</td>\n",
              "    </tr>\n",
              "    <tr>\n",
              "      <th>Q2</th>\n",
              "      <td>2.0</td>\n",
              "      <td>0.0</td>\n",
              "      <td>2.0</td>\n",
              "      <td>4.0</td>\n",
              "      <td>2.0</td>\n",
              "    </tr>\n",
              "  </tbody>\n",
              "</table>\n",
              "</div>"
            ],
            "text/plain": [
              "    Strongly disagree  Disagree  Neither agree nor disagree  Agree  \\\n",
              "Q1                2.0       1.0                         3.0    3.0   \n",
              "Q2                2.0       0.0                         2.0    4.0   \n",
              "\n",
              "    Strongly agree  \n",
              "Q1             1.0  \n",
              "Q2             2.0  "
            ]
          },
          "execution_count": null,
          "metadata": {},
          "output_type": "execute_result"
        }
      ],
      "source": [
        "precomputed_counts = pd.DataFrame(\n",
        "    {'Strongly disagree': {'Q1': 2.0, 'Q2': 2.0},\n",
        "     'Disagree': {'Q1': 1.0, 'Q2': 0.0},\n",
        "     'Neither agree nor disagree': {'Q1': 3.0, 'Q2': 2.0},\n",
        "     'Agree': {'Q1': 3.0, 'Q2': 4.0},\n",
        "     'Strongly agree': {'Q1': 1.0, 'Q2': 2.0}}\n",
        ")\n",
        "precomputed_counts"
      ]
    },
    {
      "cell_type": "markdown",
      "metadata": {
        "id": "jcC5S0xb-99V"
      },
      "source": [
        "…and pass them to the `plot_counts` function:"
      ]
    },
    {
      "cell_type": "code",
      "execution_count": null,
      "metadata": {
        "id": "qezI2ae0-99W",
        "outputId": "268ee2c3-04e8-40b0-8982-d343d84a7dd9"
      },
      "outputs": [
        {
          "data": {
            "image/png": "[encoded data removed]",
            "text/plain": [
              "<Figure size 432x288 with 1 Axes>"
            ]
          },
          "metadata": {
            "needs_background": "light"
          },
          "output_type": "display_data"
        }
      ],
      "source": [
        "plot_likert.plot_counts(precomputed_counts, plot_likert.scales.agree);"
      ]
    },
    {
      "cell_type": "markdown",
      "metadata": {
        "id": "EjcaRgaJ-99W"
      },
      "source": [
        "Voilà!\n",
        "\n",
        "`plot_counts` takes the same arguments documented above, so you can customize the plot exactly the same way."
      ]
    }
  ],
  "metadata": {
    "kernelspec": {
      "display_name": "Python 3 (ipykernel)",
      "language": "python",
      "name": "python3"
    },
    "colab": {
      "provenance": []
    }
  },
  "nbformat": 4,
  "nbformat_minor": 0
}